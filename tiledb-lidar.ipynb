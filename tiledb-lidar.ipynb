{
 "cells": [
  {
   "cell_type": "code",
   "execution_count": 18,
   "metadata": {},
   "outputs": [],
   "source": [
    "import IPython.display\n",
    "import ipyvolume.pylab as p3d\n",
    "import matplotlib.cm\n",
    "import matplotlib.pyplot as plt\n",
    "from scipy.spatial import Delaunay\n",
    "%matplotlib inline"
   ]
  },
  {
   "cell_type": "code",
   "execution_count": 19,
   "metadata": {},
   "outputs": [],
   "source": [
    "import pandas as pd\n",
    "import numpy as np\n",
    "import tiledb"
   ]
  },
  {
   "cell_type": "code",
   "execution_count": 20,
   "metadata": {},
   "outputs": [
    {
     "data": {
      "text/plain": [
       "(1, 2, 2)"
      ]
     },
     "execution_count": 20,
     "metadata": {},
     "output_type": "execute_result"
    }
   ],
   "source": [
    "tiledb.libtiledb.version()"
   ]
  },
  {
   "cell_type": "code",
   "execution_count": 21,
   "metadata": {},
   "outputs": [],
   "source": [
    "ctx = tiledb.Ctx()"
   ]
  },
  {
   "cell_type": "code",
   "execution_count": 22,
   "metadata": {},
   "outputs": [],
   "source": [
    "arr = tiledb.SparseArray.load(ctx, \"data/nyu_dublin_lidar_decimated\")"
   ]
  },
  {
   "cell_type": "code",
   "execution_count": 23,
   "metadata": {},
   "outputs": [
    {
     "data": {
      "text/plain": [
       "Domain(Dim(name='x', domain=(0, 4200000000), tile=100000, dtype=uint32),\n",
       "       Dim(name='y', domain=(0, 4200000000), tile=100000, dtype=uint32),\n",
       "       Dim(name='z', domain=(0, 4200000000), tile=100000, dtype=uint32))"
      ]
     },
     "execution_count": 23,
     "metadata": {},
     "output_type": "execute_result"
    }
   ],
   "source": [
    "arr.domain"
   ]
  },
  {
   "cell_type": "code",
   "execution_count": 28,
   "metadata": {},
   "outputs": [
    {
     "data": {
      "text/html": [
       "<div>\n",
       "<style scoped>\n",
       "    .dataframe tbody tr th:only-of-type {\n",
       "        vertical-align: middle;\n",
       "    }\n",
       "\n",
       "    .dataframe tbody tr th {\n",
       "        vertical-align: top;\n",
       "    }\n",
       "\n",
       "    .dataframe thead th {\n",
       "        text-align: right;\n",
       "    }\n",
       "</style>\n",
       "<table border=\"1\" class=\"dataframe\">\n",
       "  <thead>\n",
       "    <tr style=\"text-align: right;\">\n",
       "      <th></th>\n",
       "      <th>Attribute</th>\n",
       "      <th>compressor</th>\n",
       "      <th>dtype</th>\n",
       "    </tr>\n",
       "  </thead>\n",
       "  <tbody>\n",
       "    <tr>\n",
       "      <th>0</th>\n",
       "      <td>intensity</td>\n",
       "      <td>(bzip2, 5)</td>\n",
       "      <td>uint16</td>\n",
       "    </tr>\n",
       "    <tr>\n",
       "      <th>1</th>\n",
       "      <td>returns</td>\n",
       "      <td>(blosc-zstd, 9)</td>\n",
       "      <td>uint8</td>\n",
       "    </tr>\n",
       "    <tr>\n",
       "      <th>2</th>\n",
       "      <td>flags</td>\n",
       "      <td>(blosc-zstd, 9)</td>\n",
       "      <td>uint8</td>\n",
       "    </tr>\n",
       "    <tr>\n",
       "      <th>3</th>\n",
       "      <td>classification</td>\n",
       "      <td>(gzip, 9)</td>\n",
       "      <td>uint8</td>\n",
       "    </tr>\n",
       "    <tr>\n",
       "      <th>4</th>\n",
       "      <td>scan_angle</td>\n",
       "      <td>(bzip2, 5)</td>\n",
       "      <td>int16</td>\n",
       "    </tr>\n",
       "    <tr>\n",
       "      <th>5</th>\n",
       "      <td>user_data</td>\n",
       "      <td>(gzip, -1)</td>\n",
       "      <td>uint8</td>\n",
       "    </tr>\n",
       "    <tr>\n",
       "      <th>6</th>\n",
       "      <td>point_source_id</td>\n",
       "      <td>(bzip2, -1)</td>\n",
       "      <td>uint16</td>\n",
       "    </tr>\n",
       "    <tr>\n",
       "      <th>7</th>\n",
       "      <td>gps_time</td>\n",
       "      <td>(blosc-zstd, 7)</td>\n",
       "      <td>float64</td>\n",
       "    </tr>\n",
       "    <tr>\n",
       "      <th>8</th>\n",
       "      <td>red</td>\n",
       "      <td>(rle, -1)</td>\n",
       "      <td>uint16</td>\n",
       "    </tr>\n",
       "    <tr>\n",
       "      <th>9</th>\n",
       "      <td>green</td>\n",
       "      <td>(rle, -1)</td>\n",
       "      <td>uint16</td>\n",
       "    </tr>\n",
       "    <tr>\n",
       "      <th>10</th>\n",
       "      <td>blue</td>\n",
       "      <td>(rle, -1)</td>\n",
       "      <td>uint16</td>\n",
       "    </tr>\n",
       "    <tr>\n",
       "      <th>11</th>\n",
       "      <td>nir</td>\n",
       "      <td>(rle, -1)</td>\n",
       "      <td>uint16</td>\n",
       "    </tr>\n",
       "    <tr>\n",
       "      <th>12</th>\n",
       "      <td>waveform_lookup_data</td>\n",
       "      <td>(rle, -1)</td>\n",
       "      <td>[('f0', 'u1'), ('f1', 'u1'), ('f2', 'u1'), ('f...</td>\n",
       "    </tr>\n",
       "    <tr>\n",
       "      <th>13</th>\n",
       "      <td>extra_bytes</td>\n",
       "      <td>(rle, -1)</td>\n",
       "      <td>('u1', (0,))</td>\n",
       "    </tr>\n",
       "  </tbody>\n",
       "</table>\n",
       "</div>"
      ],
      "text/plain": [
       "               Attribute       compressor  \\\n",
       "0              intensity       (bzip2, 5)   \n",
       "1                returns  (blosc-zstd, 9)   \n",
       "2                  flags  (blosc-zstd, 9)   \n",
       "3         classification        (gzip, 9)   \n",
       "4             scan_angle       (bzip2, 5)   \n",
       "5              user_data       (gzip, -1)   \n",
       "6        point_source_id      (bzip2, -1)   \n",
       "7               gps_time  (blosc-zstd, 7)   \n",
       "8                    red        (rle, -1)   \n",
       "9                  green        (rle, -1)   \n",
       "10                  blue        (rle, -1)   \n",
       "11                   nir        (rle, -1)   \n",
       "12  waveform_lookup_data        (rle, -1)   \n",
       "13           extra_bytes        (rle, -1)   \n",
       "\n",
       "                                                dtype  \n",
       "0                                              uint16  \n",
       "1                                               uint8  \n",
       "2                                               uint8  \n",
       "3                                               uint8  \n",
       "4                                               int16  \n",
       "5                                               uint8  \n",
       "6                                              uint16  \n",
       "7                                             float64  \n",
       "8                                              uint16  \n",
       "9                                              uint16  \n",
       "10                                             uint16  \n",
       "11                                             uint16  \n",
       "12  [('f0', 'u1'), ('f1', 'u1'), ('f2', 'u1'), ('f...  \n",
       "13                                       ('u1', (0,))  "
      ]
     },
     "execution_count": 28,
     "metadata": {},
     "output_type": "execute_result"
    }
   ],
   "source": [
    "pd.DataFrame([(arr.attr(i).name, arr.attr(i).compressor, arr.attr(i).dtype) for i in range(arr.nattr)], \n",
    "             columns=(\"Attribute\", \"compressor\", \"dtype\"))"
   ]
  },
  {
   "cell_type": "code",
   "execution_count": 25,
   "metadata": {},
   "outputs": [
    {
     "data": {
      "text/plain": [
       "array([(2145882748, 2148575367, 2147550830),\n",
       "       (2145883036, 2148575274, 2147550861),\n",
       "       (2145883252, 2148575244, 2147550495),\n",
       "       (2145883391, 2148575121, 2147550879),\n",
       "       (2145883483, 2148575056, 2147551338),\n",
       "       (2145883570, 2148574998, 2147551523),\n",
       "       (2145883668, 2148574969, 2147551376),\n",
       "       (2145883762, 2148574748, 2147553648),\n",
       "       (2145883851, 2148574966, 2147551219),\n",
       "       (2145883920, 2148574979, 2147550606)],\n",
       "      dtype=[('x', '<u4'), ('y', '<u4'), ('z', '<u4')])"
      ]
     },
     "execution_count": 25,
     "metadata": {},
     "output_type": "execute_result"
    }
   ],
   "source": [
    "data = arr[:]\n",
    "data[\"coords\"][:10]"
   ]
  },
  {
   "cell_type": "code",
   "execution_count": 26,
   "metadata": {},
   "outputs": [],
   "source": [
    "X = data[\"coords\"]['x'][::10].astype(float)\n",
    "Y = data[\"coords\"]['y'][::10].astype(float)\n",
    "Z = data[\"coords\"]['z'][::10].astype(float) * 2 # need to give some height to this state\n",
    "Xadj = X - X.min()\n",
    "Yadj = Y - Y.min()\n",
    "Zadj = Z - Z.min()"
   ]
  },
  {
   "cell_type": "code",
   "execution_count": 27,
   "metadata": {},
   "outputs": [
    {
     "data": {
      "application/vnd.jupyter.widget-view+json": {
       "model_id": "eca28c906fee4aabb1076b0c1ef7d53c",
       "version_major": 2,
       "version_minor": 0
      },
      "text/plain": [
       "VBox(children=(Figure(camera=PerspectiveCamera(fov=46.0, position=(0.0, 0.0, 2.0), quaternion=(0.0, 0.0, 0.0, …"
      ]
     },
     "metadata": {},
     "output_type": "display_data"
    }
   ],
   "source": [
    "fig = p3d.figure(width=1000)\n",
    "fig.xlabel='Y'\n",
    "fig.ylabel='Z'\n",
    "fig.zlabel='X'\n",
    "all_points = p3d.scatter(Yadj, Zadj, Xadj, color='red', size=0.08)\n",
    "p3d.squarelim()\n",
    "p3d.show()"
   ]
  },
  {
   "cell_type": "code",
   "execution_count": null,
   "metadata": {
    "scrolled": true
   },
   "outputs": [],
   "source": [
    "# Select out the interesting columsns\n",
    "df = pd.DataFrame(data=data, columns=[\"coords\", \"intensity\", \"classification\", \"point_source_id\"])\n",
    "df.head(5)"
   ]
  },
  {
   "cell_type": "code",
   "execution_count": 29,
   "metadata": {},
   "outputs": [
    {
     "name": "stdout",
     "output_type": "stream",
     "text": [
      "N points: Class 1: 2716610\n",
      "N points: Class 2: 1309844\n"
     ]
    }
   ],
   "source": [
    "# plot the classification numbers with different colors\n",
    "coords1 = data[\"coords\"][(data[\"classification\"] & 0xf) == 2]\n",
    "coords2 = data[\"coords\"][(data[\"classification\"] & 0xf) == 4]\n",
    "print(\"N points: Class 1: {}\".format(len(coords1)))\n",
    "print(\"N points: Class 2: {}\".format(len(coords2)))"
   ]
  },
  {
   "cell_type": "code",
   "execution_count": 31,
   "metadata": {
    "scrolled": false
   },
   "outputs": [
    {
     "data": {
      "application/vnd.jupyter.widget-view+json": {
       "model_id": "f2d52659e76346549b2e4ed9214e2b0e",
       "version_major": 2,
       "version_minor": 0
      },
      "text/plain": [
       "VBox(children=(Figure(camera=PerspectiveCamera(fov=46.0, position=(0.0, 0.0, 2.0), quaternion=(0.0, 0.0, 0.0, …"
      ]
     },
     "metadata": {},
     "output_type": "display_data"
    }
   ],
   "source": [
    "# Plot the classification points\n",
    "X1 = coords1['x'][::10].astype(float)\n",
    "Y1 = coords1['y'][::10].astype(float)\n",
    "Z1 = coords1['z'][::10].astype(float)\n",
    "min_ground = Z1.min()\n",
    "X1 = X1 - X1.min()\n",
    "Y1 = Y1 - Y1.min()\n",
    "Z1 = Z1 - min_ground\n",
    "groundarr = np.column_stack((X1,Y1))\n",
    "groundtri = Delaunay(groundarr)\n",
    "\n",
    "X2 = coords2['x'][::10].astype(float)\n",
    "Y2 = coords2['y'][::10].astype(float)\n",
    "Z2 = coords2['z'][::10].astype(float)\n",
    "X2 = X2 - X2.min()\n",
    "Y2 = Y2 - Y2.min()\n",
    "Z2 = Z2 - min_ground\n",
    "vegarr = np.column_stack((X2,Y2))\n",
    "vegtri = Delaunay(vegarr)\n",
    "\n",
    "class_fig = p3d.figure(width=1000)\n",
    "class_fig.xlabel='Y'\n",
    "class_fig.ylabel='Z'\n",
    "class_fig.zlabel='X'\n",
    "p3d.plot_trisurf(Y1, Z1, X1, triangles=groundtri.simplices, color='grey')\n",
    "#p3d.plot_trisurf(Y2, Z2, X2, triangles=vegtri.simplices, color='green')\n",
    "#c1_points = p3d.scatter(Y1, Z1, X1, color='grey', size=0.08)\n",
    "c2_points = p3d.scatter(Y2, Z2, X2, color='green', size=0.03)\n",
    "#class_fig.scatters.append(c1_points)\n",
    "class_fig.scatters.append(c2_points)\n",
    "p3d.squarelim()\n",
    "p3d.show()"
   ]
  },
  {
   "cell_type": "code",
   "execution_count": null,
   "metadata": {},
   "outputs": [],
   "source": []
  }
 ],
 "metadata": {
  "kernelspec": {
   "display_name": "Python 3",
   "language": "python",
   "name": "python3"
  },
  "language_info": {
   "codemirror_mode": {
    "name": "ipython",
    "version": 3
   },
   "file_extension": ".py",
   "mimetype": "text/x-python",
   "name": "python",
   "nbconvert_exporter": "python",
   "pygments_lexer": "ipython3",
   "version": "3.6.6"
  }
 },
 "nbformat": 4,
 "nbformat_minor": 2
}
