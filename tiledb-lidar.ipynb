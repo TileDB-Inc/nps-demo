{
 "cells": [
  {
   "cell_type": "code",
   "execution_count": null,
   "metadata": {},
   "outputs": [],
   "source": [
    "import IPython.display\n",
    "import ipyvolume.pylab as p3d\n",
    "import matplotlib.cm\n",
    "import matplotlib.pyplot as plt\n",
    "from scipy.spatial import Delaunay\n",
    "import time\n",
    "%matplotlib inline"
   ]
  },
  {
   "cell_type": "code",
   "execution_count": null,
   "metadata": {},
   "outputs": [],
   "source": [
    "import pandas as pd\n",
    "import numpy as np\n",
    "import tiledb"
   ]
  },
  {
   "cell_type": "code",
   "execution_count": null,
   "metadata": {},
   "outputs": [],
   "source": [
    "tiledb.libtiledb.version()"
   ]
  },
  {
   "cell_type": "code",
   "execution_count": null,
   "metadata": {},
   "outputs": [],
   "source": [
    "ctx = tiledb.Ctx()"
   ]
  },
  {
   "cell_type": "code",
   "execution_count": null,
   "metadata": {},
   "outputs": [],
   "source": [
    "arr = tiledb.SparseArray.load(ctx, \"data/nyu_dublin_lidar\")"
   ]
  },
  {
   "cell_type": "code",
   "execution_count": null,
   "metadata": {},
   "outputs": [],
   "source": [
    "arr.domain"
   ]
  },
  {
   "cell_type": "code",
   "execution_count": null,
   "metadata": {},
   "outputs": [],
   "source": [
    "data = arr[:]\n",
    "data[\"coords\"][:10]"
   ]
  },
  {
   "cell_type": "code",
   "execution_count": null,
   "metadata": {},
   "outputs": [],
   "source": [
    "X = data[\"coords\"]['x'][::10].astype(float)\n",
    "Y = data[\"coords\"]['y'][::10].astype(float)\n",
    "Z = data[\"coords\"]['z'][::10].astype(float) * 2 # need to give some height to this state\n",
    "Xadj = X - X.min()\n",
    "Yadj = Y - Y.min()\n",
    "Zadj = Z - Z.min()"
   ]
  },
  {
   "cell_type": "code",
   "execution_count": null,
   "metadata": {},
   "outputs": [],
   "source": [
    "fig = p3d.figure(width=1000)\n",
    "p3d.style.use([\"light\", \"minimal\"])\n",
    "all_points = p3d.scatter(Yadj, Zadj, Xadj, color='red', size=0.08)\n",
    "p3d.squarelim()\n",
    "p3d.show()"
   ]
  },
  {
   "cell_type": "code",
   "execution_count": null,
   "metadata": {
    "scrolled": true
   },
   "outputs": [],
   "source": [
    "# Select out the interesting columns\n",
    "df = pd.DataFrame(data=data, columns=[\"coords\", \"intensity\", \"classification\", \"point_source_id\"])\n",
    "df.head(5)"
   ]
  },
  {
   "cell_type": "code",
   "execution_count": null,
   "metadata": {},
   "outputs": [],
   "source": [
    "# plot the classification numbers with different colors\n",
    "coords1 = data[\"coords\"][(data[\"classification\"] & 0xf) == 2]\n",
    "coords2 = data[\"coords\"][(data[\"classification\"] & 0xf) == 4]\n",
    "print(\"N points, Class 1: {}\".format(len(coords1)))\n",
    "print(\"N points, Class 2: {}\".format(len(coords2)))"
   ]
  },
  {
   "cell_type": "code",
   "execution_count": null,
   "metadata": {},
   "outputs": [],
   "source": [
    "# Plot the classification points\n",
    "X1 = coords1['x'][::10].astype(float)\n",
    "Y1 = coords1['y'][::10].astype(float)\n",
    "Z1 = coords1['z'][::10].astype(float)\n",
    "min_ground = Z1.min()\n",
    "X1 = X1 - X1.min()\n",
    "Y1 = Y1 - Y1.min()\n",
    "Z1 = Z1 - min_ground\n",
    "groundarr = np.column_stack((X1,Y1))\n",
    "groundtri = Delaunay(groundarr)\n",
    "\n",
    "X2 = coords2['x'][::10].astype(float)\n",
    "Y2 = coords2['y'][::10].astype(float)\n",
    "Z2 = coords2['z'][::10].astype(float)\n",
    "X2 = X2 - X2.min()\n",
    "Y2 = Y2 - Y2.min()\n",
    "Z2 = Z2 - min_ground\n",
    "vegarr = np.column_stack((X2,Y2))\n",
    "vegtri = Delaunay(vegarr)\n",
    "\n",
    "class_fig = p3d.figure(width=1000)\n",
    "p3d.style.use([\"light\", \"minimal\"])\n",
    "p3d.plot_trisurf(Y1, Z1, X1, triangles=groundtri.simplices, color='grey')\n",
    "c2_points = p3d.scatter(Y2, Z2, X2, color='green', size=0.03)\n",
    "class_fig.scatters.append(c2_points)\n",
    "p3d.squarelim()\n",
    "p3d.show()"
   ]
  },
  {
   "cell_type": "code",
   "execution_count": null,
   "metadata": {},
   "outputs": [],
   "source": [
    "# Testing slicing and filtering performance\n",
    "# Query 1\n",
    "start_time = time.time()\n",
    "data = arr[:]\n",
    "print(\"Query 1, N points: {}\".format(len(data[\"coords\"])))\n",
    "print(\"Query 1, slicing time: {}\".format(time.time()-start_time))\n",
    "start_time = time.time()\n",
    "coords1 = data[\"coords\"][(data[\"classification\"] & 0xf) == 2]\n",
    "print(\"Query 1, filtering time: {}\".format(time.time()-start_time))"
   ]
  },
  {
   "cell_type": "code",
   "execution_count": null,
   "metadata": {},
   "outputs": [],
   "source": [
    "# Query 2\n",
    "start_time = time.time()\n",
    "data = arr[2145880000:2146500000, :, :]\n",
    "print(\"Query 2, N points: {}\".format(len(data[\"coords\"])))\n",
    "print(\"Query 2, slicing time: {}\".format(time.time()-start_time))\n",
    "start_time = time.time()\n",
    "coords1 = data[\"coords\"][(data[\"classification\"] & 0xf) == 2]\n",
    "print(\"Query 2, filtering time: {}\".format(time.time()-start_time))"
   ]
  },
  {
   "cell_type": "code",
   "execution_count": null,
   "metadata": {},
   "outputs": [],
   "source": [
    "# Query 3\n",
    "start_time = time.time()\n",
    "data = arr[2145880000:2146300000, :, :]\n",
    "print(\"Query 3, N points: {}\".format(len(data[\"coords\"])))\n",
    "print(\"Query 3, slicing time: {}\".format(time.time()-start_time))\n",
    "start_time = time.time()\n",
    "coords1 = data[\"coords\"][(data[\"classification\"] & 0xf) == 2]\n",
    "print(\"Query 3, filtering time: {}\".format(time.time()-start_time))"
   ]
  },
  {
   "cell_type": "code",
   "execution_count": null,
   "metadata": {},
   "outputs": [],
   "source": [
    "# Query 4\n",
    "start_time = time.time()\n",
    "data = arr[2145880000:2146000000, :, :]\n",
    "print(\"Query 4, N points: {}\".format(len(data[\"coords\"])))\n",
    "print(\"Query 4, slicing time: {}\".format(time.time()-start_time))\n",
    "start_time = time.time()\n",
    "coords1 = data[\"coords\"][(data[\"classification\"] & 0xf) == 2]\n",
    "print(\"Query 4, filtering time: {}\".format(time.time()-start_time))"
   ]
  },
  {
   "cell_type": "code",
   "execution_count": null,
   "metadata": {},
   "outputs": [],
   "source": []
  }
 ],
 "metadata": {
  "kernelspec": {
   "display_name": "Python 3",
   "language": "python",
   "name": "python3"
  },
  "language_info": {
   "codemirror_mode": {
    "name": "ipython",
    "version": 3
   },
   "file_extension": ".py",
   "mimetype": "text/x-python",
   "name": "python",
   "nbconvert_exporter": "python",
   "pygments_lexer": "ipython3",
   "version": "3.6.4"
  }
 },
 "nbformat": 4,
 "nbformat_minor": 2
}
