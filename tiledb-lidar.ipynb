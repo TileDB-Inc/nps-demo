{
 "cells": [
  {
   "cell_type": "code",
   "execution_count": 1,
   "metadata": {},
   "outputs": [],
   "source": [
    "import IPython.display\n",
    "import ipyvolume.pylab as p3d\n",
    "import matplotlib.cm\n",
    "import matplotlib.pyplot as plt\n",
    "from scipy.spatial import Delaunay\n",
    "%matplotlib inline"
   ]
  },
  {
   "cell_type": "code",
   "execution_count": 2,
   "metadata": {},
   "outputs": [],
   "source": [
    "import pandas as pd\n",
    "import numpy as np\n",
    "import tiledb"
   ]
  },
  {
   "cell_type": "code",
   "execution_count": 3,
   "metadata": {},
   "outputs": [
    {
     "data": {
      "text/plain": [
       "(1, 2, 1)"
      ]
     },
     "execution_count": 3,
     "metadata": {},
     "output_type": "execute_result"
    }
   ],
   "source": [
    "tiledb.libtiledb.version()"
   ]
  },
  {
   "cell_type": "code",
   "execution_count": 4,
   "metadata": {},
   "outputs": [],
   "source": [
    "ctx = tiledb.Ctx()"
   ]
  },
  {
   "cell_type": "code",
   "execution_count": 5,
   "metadata": {},
   "outputs": [],
   "source": [
    "arr = tiledb.SparseArray.load(ctx, \"data/nyu_dublin_lidar_decimated\")"
   ]
  },
  {
   "cell_type": "code",
   "execution_count": 6,
   "metadata": {},
   "outputs": [
    {
     "data": {
      "text/plain": [
       "Domain(Dim(name='x', domain=(0, 4200000000), tile=100000, dtype=uint32),\n",
       "       Dim(name='y', domain=(0, 4200000000), tile=100000, dtype=uint32),\n",
       "       Dim(name='z', domain=(0, 4200000000), tile=100000, dtype=uint32))"
      ]
     },
     "execution_count": 6,
     "metadata": {},
     "output_type": "execute_result"
    }
   ],
   "source": [
    "arr.domain"
   ]
  },
  {
   "cell_type": "code",
   "execution_count": 7,
   "metadata": {},
   "outputs": [
    {
     "data": {
      "text/plain": [
       "array([(2145882748, 2148575367, 2147550830),\n",
       "       (2145883036, 2148575274, 2147550861),\n",
       "       (2145883252, 2148575244, 2147550495),\n",
       "       (2145883391, 2148575121, 2147550879),\n",
       "       (2145883483, 2148575056, 2147551338),\n",
       "       (2145883570, 2148574998, 2147551523),\n",
       "       (2145883668, 2148574969, 2147551376),\n",
       "       (2145883762, 2148574748, 2147553648),\n",
       "       (2145883851, 2148574966, 2147551219),\n",
       "       (2145883920, 2148574979, 2147550606)],\n",
       "      dtype=[('x', '<u4'), ('y', '<u4'), ('z', '<u4')])"
      ]
     },
     "execution_count": 7,
     "metadata": {},
     "output_type": "execute_result"
    }
   ],
   "source": [
    "data = arr[:]\n",
    "data[\"coords\"][:10]"
   ]
  },
  {
   "cell_type": "code",
   "execution_count": 8,
   "metadata": {},
   "outputs": [],
   "source": [
    "X = data[\"coords\"]['x'][::10].astype(float)\n",
    "Y = data[\"coords\"]['y'][::10].astype(float)\n",
    "Z = data[\"coords\"]['z'][::10].astype(float) * 2 # need to give some height to this state\n",
    "Xadj = X - X.min()\n",
    "Yadj = Y - Y.min()\n",
    "Zadj = Z - Z.min()"
   ]
  },
  {
   "cell_type": "code",
   "execution_count": 10,
   "metadata": {},
   "outputs": [
    {
     "data": {
      "application/vnd.jupyter.widget-view+json": {
       "model_id": "d71dc246454440df9368c0d64cca5e27",
       "version_major": 2,
       "version_minor": 0
      },
      "text/html": [
       "<p>Failed to display Jupyter Widget of type <code>VBox</code>.</p>\n",
       "<p>\n",
       "  If you're reading this message in the Jupyter Notebook or JupyterLab Notebook, it may mean\n",
       "  that the widgets JavaScript is still loading. If this message persists, it\n",
       "  likely means that the widgets JavaScript library is either not installed or\n",
       "  not enabled. See the <a href=\"https://ipywidgets.readthedocs.io/en/stable/user_install.html\">Jupyter\n",
       "  Widgets Documentation</a> for setup instructions.\n",
       "</p>\n",
       "<p>\n",
       "  If you're reading this message in another frontend (for example, a static\n",
       "  rendering on GitHub or <a href=\"https://nbviewer.jupyter.org/\">NBViewer</a>),\n",
       "  it may mean that your frontend doesn't currently support widgets.\n",
       "</p>\n"
      ],
      "text/plain": [
       "VBox(children=(Figure(camera_center=[0.0, 0.0, 0.0], height=500, matrix_projection=[0.0, 0.0, 0.0, 0.0, 0.0, 0.0, 0.0, 0.0, 0.0, 0.0, 0.0, 0.0, 0.0, 0.0, 0.0, 0.0], matrix_world=[0.0, 0.0, 0.0, 0.0, 0.0, 0.0, 0.0, 0.0, 0.0, 0.0, 0.0, 0.0, 0.0, 0.0, 0.0, 0.0], scatters=[Scatter(color_selected=array('white', dtype='<U5'), size=array(0.08), size_selected=array(2.6), x=array([1412306., 1411681., 1411586., ...,  323906.,  323879.,  324791.]), y=array([106900., 111138., 108274., ..., 132092., 132070., 132054.]), z=array([  17926.,   19127.,   19924., ..., 1666534., 1667244., 1668723.]))], style={'axes': {'visible': True, 'label': {'color': 'black'}, 'ticklabel': {'color': 'black'}, 'color': 'black'}, 'box': {'visible': True}, 'background-color': 'white'}, tf=None, width=1000, xlabel='Y', xlim=[0.0, 1937146.0], ylabel='Z', ylim=[-858793.0, 1078353.0], zlabel='X', zlim=[-134211.5, 1802934.5]),))"
      ]
     },
     "metadata": {},
     "output_type": "display_data"
    }
   ],
   "source": [
    "fig = p3d.figure(width=1000)\n",
    "fig.xlabel='Y'\n",
    "fig.ylabel='Z'\n",
    "fig.zlabel='X'\n",
    "all_points = p3d.scatter(Yadj, Zadj, Xadj, color='red', size=0.08)\n",
    "p3d.squarelim()\n",
    "p3d.show()"
   ]
  },
  {
   "cell_type": "code",
   "execution_count": 11,
   "metadata": {
    "scrolled": true
   },
   "outputs": [
    {
     "data": {
      "text/html": [
       "<div>\n",
       "<style scoped>\n",
       "    .dataframe tbody tr th:only-of-type {\n",
       "        vertical-align: middle;\n",
       "    }\n",
       "\n",
       "    .dataframe tbody tr th {\n",
       "        vertical-align: top;\n",
       "    }\n",
       "\n",
       "    .dataframe thead th {\n",
       "        text-align: right;\n",
       "    }\n",
       "</style>\n",
       "<table border=\"1\" class=\"dataframe\">\n",
       "  <thead>\n",
       "    <tr style=\"text-align: right;\">\n",
       "      <th></th>\n",
       "      <th>coords</th>\n",
       "      <th>intensity</th>\n",
       "      <th>classification</th>\n",
       "      <th>point_source_id</th>\n",
       "    </tr>\n",
       "  </thead>\n",
       "  <tbody>\n",
       "    <tr>\n",
       "      <th>0</th>\n",
       "      <td>(2145882748, 2148575367, 2147550830)</td>\n",
       "      <td>79</td>\n",
       "      <td>2</td>\n",
       "      <td>0</td>\n",
       "    </tr>\n",
       "    <tr>\n",
       "      <th>1</th>\n",
       "      <td>(2145883036, 2148575274, 2147550861)</td>\n",
       "      <td>79</td>\n",
       "      <td>4</td>\n",
       "      <td>0</td>\n",
       "    </tr>\n",
       "    <tr>\n",
       "      <th>2</th>\n",
       "      <td>(2145883252, 2148575244, 2147550495)</td>\n",
       "      <td>61</td>\n",
       "      <td>4</td>\n",
       "      <td>0</td>\n",
       "    </tr>\n",
       "    <tr>\n",
       "      <th>3</th>\n",
       "      <td>(2145883391, 2148575121, 2147550879)</td>\n",
       "      <td>121</td>\n",
       "      <td>2</td>\n",
       "      <td>0</td>\n",
       "    </tr>\n",
       "    <tr>\n",
       "      <th>4</th>\n",
       "      <td>(2145883483, 2148575056, 2147551338)</td>\n",
       "      <td>97</td>\n",
       "      <td>2</td>\n",
       "      <td>0</td>\n",
       "    </tr>\n",
       "  </tbody>\n",
       "</table>\n",
       "</div>"
      ],
      "text/plain": [
       "                                 coords  intensity  classification  \\\n",
       "0  (2145882748, 2148575367, 2147550830)         79               2   \n",
       "1  (2145883036, 2148575274, 2147550861)         79               4   \n",
       "2  (2145883252, 2148575244, 2147550495)         61               4   \n",
       "3  (2145883391, 2148575121, 2147550879)        121               2   \n",
       "4  (2145883483, 2148575056, 2147551338)         97               2   \n",
       "\n",
       "   point_source_id  \n",
       "0                0  \n",
       "1                0  \n",
       "2                0  \n",
       "3                0  \n",
       "4                0  "
      ]
     },
     "execution_count": 11,
     "metadata": {},
     "output_type": "execute_result"
    }
   ],
   "source": [
    "# Select out the interesting columsns\n",
    "df = pd.DataFrame(data=data, columns=[\"coords\", \"intensity\", \"classification\", \"point_source_id\"])\n",
    "df.head(5)"
   ]
  },
  {
   "cell_type": "code",
   "execution_count": 12,
   "metadata": {},
   "outputs": [
    {
     "name": "stdout",
     "output_type": "stream",
     "text": [
      "N points: Class 1: 2716610\n",
      "N points: Class 2: 1309844\n"
     ]
    }
   ],
   "source": [
    "# plot the classification numbers with different colors\n",
    "coords1 = data[\"coords\"][(data[\"classification\"] & 0xf) == 2]\n",
    "coords2 = data[\"coords\"][(data[\"classification\"] & 0xf) == 4]\n",
    "print(\"N points: Class 1: {}\".format(len(coords1)))\n",
    "print(\"N points: Class 2: {}\".format(len(coords2)))"
   ]
  },
  {
   "cell_type": "code",
   "execution_count": null,
   "metadata": {},
   "outputs": [],
   "source": []
  },
  {
   "cell_type": "code",
   "execution_count": 13,
   "metadata": {},
   "outputs": [
    {
     "data": {
      "application/vnd.jupyter.widget-view+json": {
       "model_id": "9a4642b938e84537ae3bf8893bed1430",
       "version_major": 2,
       "version_minor": 0
      },
      "text/html": [
       "<p>Failed to display Jupyter Widget of type <code>VBox</code>.</p>\n",
       "<p>\n",
       "  If you're reading this message in the Jupyter Notebook or JupyterLab Notebook, it may mean\n",
       "  that the widgets JavaScript is still loading. If this message persists, it\n",
       "  likely means that the widgets JavaScript library is either not installed or\n",
       "  not enabled. See the <a href=\"https://ipywidgets.readthedocs.io/en/stable/user_install.html\">Jupyter\n",
       "  Widgets Documentation</a> for setup instructions.\n",
       "</p>\n",
       "<p>\n",
       "  If you're reading this message in another frontend (for example, a static\n",
       "  rendering on GitHub or <a href=\"https://nbviewer.jupyter.org/\">NBViewer</a>),\n",
       "  it may mean that your frontend doesn't currently support widgets.\n",
       "</p>\n"
      ],
      "text/plain": [
       "VBox(children=(Figure(camera_center=[0.0, 0.0, 0.0], height=500, matrix_projection=[0.0, 0.0, 0.0, 0.0, 0.0, 0.0, 0.0, 0.0, 0.0, 0.0, 0.0, 0.0, 0.0, 0.0, 0.0, 0.0], matrix_world=[0.0, 0.0, 0.0, 0.0, 0.0, 0.0, 0.0, 0.0, 0.0, 0.0, 0.0, 0.0, 0.0, 0.0, 0.0, 0.0], meshes=[Mesh(color=array('grey', dtype='<U4'), texture=None, triangles=array([[125191, 199470,  33096],\n",
       "       [250232, 234184, 234134],\n",
       "       [ 16068,      0,  33271],\n",
       "       ...,\n",
       "       [153215, 153203, 153152],\n",
       "       [153215, 153221, 153204],\n",
       "       [153203, 153215, 153204]], dtype=uint32), x=array([1413420., 1412642., 1412234., ...,  328082.,  324831.,  324953.]), y=array([30366., 30395., 30713., ..., 42974., 42911., 42924.]), z=array([  18208.,   20880.,   22035., ..., 1666235., 1667000., 1668418.]))], scatters=[Scatter(color=array('green', dtype='<U5'), color_selected=array('white', dtype='<U5'), size=array(0.03), size_selected=array(2.6), x=array([1408954., 1408299., 1407983., ...,  313966.,  314733.,  319812.]), y=array([30397., 32469., 33626., ..., 47004., 48512., 42854.]), z=array([  17210.,   18635.,   19398., ..., 1662395., 1662856., 1664015.])), Scatter(color=array('green', dtype='<U5'), color_selected=array('white', dtype='<U5'), size=array(0.03), size_selected=array(2.6), x=array([1408954., 1408299., 1407983., ...,  313966.,  314733.,  319812.]), y=array([30397., 32469., 33626., ..., 47004., 48512., 42854.]), z=array([  17210.,   18635.,   19398., ..., 1662395., 1662856., 1664015.]))], style={'axes': {'visible': True, 'label': {'color': 'black'}, 'ticklabel': {'color': 'black'}, 'color': 'black'}, 'box': {'visible': True}, 'background-color': 'white'}, tf=None, width=1000, xlabel='Y', xlim=[0.0, 1933231.0], ylabel='Z', ylim=[-797055.0, 1136176.0], zlabel='X', zlim=[-132406.5, 1800824.5]),))"
      ]
     },
     "metadata": {},
     "output_type": "display_data"
    }
   ],
   "source": [
    "# Plot the classification points\n",
    "X1 = coords1['x'][::10].astype(float)\n",
    "Y1 = coords1['y'][::10].astype(float)\n",
    "Z1 = coords1['z'][::10].astype(float)\n",
    "min_ground = Z1.min()\n",
    "X1 = X1 - X1.min()\n",
    "Y1 = Y1 - Y1.min()\n",
    "Z1 = Z1 - min_ground\n",
    "groundarr = np.column_stack((X1,Y1))\n",
    "groundtri = Delaunay(groundarr)\n",
    "\n",
    "X2 = coords2['x'][::10].astype(float)\n",
    "Y2 = coords2['y'][::10].astype(float)\n",
    "Z2 = coords2['z'][::10].astype(float)\n",
    "X2 = X2 - X2.min()\n",
    "Y2 = Y2 - Y2.min()\n",
    "Z2 = Z2 - min_ground\n",
    "vegarr = np.column_stack((X2,Y2))\n",
    "vegtri = Delaunay(vegarr)\n",
    "\n",
    "class_fig = p3d.figure(width=1000)\n",
    "class_fig.xlabel='Y'\n",
    "class_fig.ylabel='Z'\n",
    "class_fig.zlabel='X'\n",
    "p3d.plot_trisurf(Y1, Z1, X1, triangles=groundtri.simplices, color='grey')\n",
    "#p3d.plot_trisurf(Y2, Z2, X2, triangles=vegtri.simplices, color='green')\n",
    "#c1_points = p3d.scatter(Y1, Z1, X1, color='grey', size=0.08)\n",
    "c2_points = p3d.scatter(Y2, Z2, X2, color='green', size=0.03)\n",
    "#class_fig.scatters.append(c1_points)\n",
    "class_fig.scatters.append(c2_points)\n",
    "p3d.squarelim()\n",
    "p3d.show()"
   ]
  },
  {
   "cell_type": "code",
   "execution_count": null,
   "metadata": {},
   "outputs": [],
   "source": []
  }
 ],
 "metadata": {
  "kernelspec": {
   "display_name": "Python 3",
   "language": "python",
   "name": "python3"
  },
  "language_info": {
   "codemirror_mode": {
    "name": "ipython",
    "version": 3
   },
   "file_extension": ".py",
   "mimetype": "text/x-python",
   "name": "python",
   "nbconvert_exporter": "python",
   "pygments_lexer": "ipython3",
   "version": "3.6.4"
  }
 },
 "nbformat": 4,
 "nbformat_minor": 2
}
